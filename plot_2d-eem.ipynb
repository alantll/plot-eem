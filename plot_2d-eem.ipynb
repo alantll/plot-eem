{
 "cells": [
  {
   "cell_type": "code",
   "execution_count": null,
   "id": "4d3f1c87",
   "metadata": {},
   "outputs": [],
   "source": [
    "import os\n",
    "import matplotlib.pyplot as plt\n",
    "import pandas as pd\n",
    "import numpy as np"
   ]
  },
  {
   "cell_type": "code",
   "execution_count": null,
   "id": "5e7a7480",
   "metadata": {},
   "outputs": [],
   "source": [
    "#! ls"
   ]
  },
  {
   "cell_type": "code",
   "execution_count": null,
   "id": "6bf32749",
   "metadata": {},
   "outputs": [],
   "source": [
    "def get_fileNames(filePath):\n",
    "    \"\"\"\n",
    "    Extract a list of .csv file names from fluorescence data folder.\n",
    "    :param filePath: path to .csv file folder.\n",
    "    :return: list of file names.\n",
    "    \"\"\" \n",
    "    fileList = os.listdir(filePath)\n",
    "    fileNames = sorted([file for file in fileList if file.endswith('.csv')])\n",
    "    \n",
    "    return fileNames"
   ]
  },
  {
   "cell_type": "code",
   "execution_count": null,
   "id": "e0cf639c",
   "metadata": {},
   "outputs": [],
   "source": [
    "def get_XYZ(filePath, fileName):\n",
    "    \"\"\"\n",
    "    Read fluorescence file into a Pandas DataFrame. Returns arrays of x,y coordinates along contour data.\n",
    "    :param filePath: path to .csv file folder.\n",
    "    :param fileName: file name.\n",
    "    :return: X,Y coordinate arrays and Z contour array.   \n",
    "    \"\"\"\n",
    "    # Import data into Dataframe and transpose so that excitation data (x-axis) is arranged in to columns\n",
    "    # and emission data (y-axis) is arranged into rows.\n",
    "    Z = pd.read_csv(os.path.join(filePath, fileName), header=0, index_col=0).T\n",
    "    \n",
    "    # Set x- and y-axis values\n",
    "    x = Z.columns\n",
    "    y = Z.index.astype(int)\n",
    "    # Set X and Y (2D arrays of the x and y points)\n",
    "    X, Y = np.meshgrid(x, y)\n",
    "    #print(X.shape, Y.shape)\n",
    "    \n",
    "    return X, Y, Z"
   ]
  },
  {
   "cell_type": "code",
   "execution_count": null,
   "id": "225c3f61",
   "metadata": {},
   "outputs": [],
   "source": [
    "def plot_contour(X, Y, Z, filePath, fileName, outFormat='png'):\n",
    "    \"\"\"\n",
    "    Plot excitation and emission data and saves as .png file.\n",
    "    :param X: x points array\n",
    "    :param Y: y points array\n",
    "    :param Z: contour array for X and Y\n",
    "    :param filePath: path to CD file folder.\n",
    "    :param fileName: file name.\n",
    "    :outFormat: output file extension (.png, .svg, .pdf). Default is .png.\n",
    "    :return: None\n",
    "    \"\"\"\n",
    "    hfont = {'fontname':'Arial'}\n",
    "\n",
    "    fig, ax = plt.subplots(1, 1)\n",
    "    cs = ax.contourf(X, Y, Z, 100, cmap='jet')\n",
    "    \n",
    "    plt.rcParams.update({'font.size': 18})\n",
    "    #ax.set_title(os.path.basename(f'{fileName[:-4]}'), **hfont)\n",
    "    ax.set_xlabel('Emission Wavelength (nm)', **hfont) \n",
    "    ax.set_ylabel('Excitation Wavelength (nm)', **hfont)\n",
    "\n",
    "    plt.xticks(**hfont)\n",
    "    plt.yticks(**hfont)\n",
    "    \n",
    "    plt.tight_layout()\n",
    "    \n",
    "    # Configure colorbar scale\n",
    "    maxZ = round(max(Z.max()), -2) # max intensity value\n",
    "    cbar = fig.colorbar(cs, spacing = 'proportional')\n",
    "    cbar.set_ticks(np.arange(0, maxZ+1, maxZ/5))\n",
    "    \n",
    "    outfile = os.path.join(filePath, fileName[:-4])\n",
    "    fig.savefig(f'{outfile}.{outFormat}', dpi=300, bbox_inches='tight', transparent=True)\n",
    "    \n",
    "    return"
   ]
  },
  {
   "cell_type": "code",
   "execution_count": null,
   "id": "9377d5bb",
   "metadata": {},
   "outputs": [],
   "source": [
    "filePath = input('Enter path to data folder: ')\n",
    "outFormat = input('Enter output file type: ')\n",
    "\n",
    "fileNames = get_fileNames(filePath)\n",
    "\n",
    "print(f'There are {len(fileNames)} to parse.\\nFile list = {fileNames}')\n",
    "\n",
    "count = 0\n",
    "for file in fileNames:\n",
    "    try:\n",
    "        X, Y, Z = get_XYZ(filePath, file)\n",
    "        plot_contour(X, Y, Z, filePath, file, outFormat)\n",
    "        count += 1\n",
    "    except:\n",
    "        print(f'Failed to plot {file}.')\n",
    "        continue\n",
    "    \n",
    "print(f'Succesfully plotted {count}/{len(fileNames)} files.')"
   ]
  },
  {
   "cell_type": "code",
   "execution_count": null,
   "id": "e3a66df9",
   "metadata": {},
   "outputs": [],
   "source": []
  }
 ],
 "metadata": {
  "kernelspec": {
   "display_name": "Python 3 (ipykernel)",
   "language": "python",
   "name": "python3"
  },
  "language_info": {
   "codemirror_mode": {
    "name": "ipython",
    "version": 3
   },
   "file_extension": ".py",
   "mimetype": "text/x-python",
   "name": "python",
   "nbconvert_exporter": "python",
   "pygments_lexer": "ipython3",
   "version": "3.10.2"
  }
 },
 "nbformat": 4,
 "nbformat_minor": 5
}
